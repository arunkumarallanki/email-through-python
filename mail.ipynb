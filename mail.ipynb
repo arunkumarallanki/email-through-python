{
 "cells": [
  {
   "cell_type": "code",
   "execution_count": 1,
   "id": "106abb67",
   "metadata": {},
   "outputs": [],
   "source": [
    "import pandas as pd\n",
    "import numpy as np\n"
   ]
  },
  {
   "cell_type": "code",
   "execution_count": 13,
   "id": "c1dd0fcb",
   "metadata": {},
   "outputs": [
    {
     "name": "stdout",
     "output_type": "stream",
     "text": [
      "   rollno                  mailid   cs  python  emtl\n",
      "0   484.0  21071a0484@vnrvjiet.in  3.0     3.0   2.0\n",
      "1   489.0  21071a0489@vnrvjiet.in  3.0     3.0   2.0\n",
      "2   294.0  21071a0294@vnrvjiet.in  0.0     3.0   2.0\n",
      "3   289.0  21071a0289@vnrvjiet.in  3.0     3.0   2.0\n",
      "4   267.0  21071a1267@vnrvjiet.in  4.0     4.0   2.0\n",
      "5   471.0  21071a0471@vnrvjiet.in  4.0     4.0   2.0\n",
      "6   472.0  21071a0472@vnrvjiet.in  4.0     4.0   5.0\n",
      "7   473.0  21071a0473@vnrvjiet.in  4.0     4.0   5.0\n",
      "8     NaN  21071a0473@vnrvjiet.in  NaN     NaN   NaN\n"
     ]
    }
   ],
   "source": [
    "data=pd.read_csv(r'C:\\Users\\arunkumar\\Downloads\\attendance (1).csv')\n",
    "print(data)"
   ]
  },
  {
   "cell_type": "code",
   "execution_count": 14,
   "id": "fb3bc905",
   "metadata": {},
   "outputs": [
    {
     "name": "stdout",
     "output_type": "stream",
     "text": [
      "[ 3.  3.  0.  3.  4.  4.  4.  4. nan] [ 3.  3.  3.  3.  4.  4.  4.  4. nan] [ 2.  2.  2.  2.  2.  2.  5.  5. nan]\n"
     ]
    }
   ],
   "source": [
    "x=np.array(data.cs)\n",
    "y=np.array(data.python)\n",
    "z=np.array(data.emtl)\n",
    "print(x,y,z)"
   ]
  },
  {
   "cell_type": "code",
   "execution_count": 15,
   "id": "095e72ae",
   "metadata": {},
   "outputs": [
    {
     "name": "stdout",
     "output_type": "stream",
     "text": [
      "[ 8.  8.  5.  8. 10. 10. 13. 13. nan]\n",
      "[53.33333333 53.33333333 33.33333333 53.33333333 66.66666667 66.66666667\n",
      " 86.66666667 86.66666667         nan]\n"
     ]
    }
   ],
   "source": [
    "\n",
    "\n",
    "total_att1=x+y\n",
    "total_att=total_att1 + z\n",
    "\n",
    "total_held=15\n",
    "print(total_att)\n",
    "att_per=np.divide(total_att,total_held)\n",
    "att_per=np.dot(att_per,100)\n",
    "print(att_per)\n"
   ]
  },
  {
   "cell_type": "code",
   "execution_count": 16,
   "id": "224c2ba8",
   "metadata": {},
   "outputs": [
    {
     "name": "stdout",
     "output_type": "stream",
     "text": [
      "   rollno                  mailid   cs  python  emtl  attendance\n",
      "0   484.0  21071a0484@vnrvjiet.in  3.0     3.0   2.0   53.333333\n",
      "1   489.0  21071a0489@vnrvjiet.in  3.0     3.0   2.0   53.333333\n",
      "2   294.0  21071a0294@vnrvjiet.in  0.0     3.0   2.0   33.333333\n",
      "3   289.0  21071a0289@vnrvjiet.in  3.0     3.0   2.0   53.333333\n",
      "4   267.0  21071a1267@vnrvjiet.in  4.0     4.0   2.0   66.666667\n",
      "5   471.0  21071a0471@vnrvjiet.in  4.0     4.0   2.0   66.666667\n",
      "6   472.0  21071a0472@vnrvjiet.in  4.0     4.0   5.0   86.666667\n",
      "7   473.0  21071a0473@vnrvjiet.in  4.0     4.0   5.0   86.666667\n",
      "8     NaN  21071a0473@vnrvjiet.in  NaN     NaN   NaN         NaN\n"
     ]
    }
   ],
   "source": [
    "data['attendance']=att_per\n",
    "print(data)"
   ]
  },
  {
   "cell_type": "code",
   "execution_count": 19,
   "id": "1d064531",
   "metadata": {},
   "outputs": [
    {
     "name": "stdout",
     "output_type": "stream",
     "text": [
      "to be detained 484.0 21071a0484@vnrvjiet.in\n",
      "to be detained 489.0 21071a0489@vnrvjiet.in\n",
      "to be detained 294.0 21071a0294@vnrvjiet.in\n",
      "to be detained 289.0 21071a0289@vnrvjiet.in\n"
     ]
    }
   ],
   "source": [
    "for i,j in data.iterrows():\n",
    "    if j.attendance<65:\n",
    "        print(\"to be detained\",j.rollno,j.mailid)\n",
    "        \n",
    "        "
   ]
  },
  {
   "cell_type": "code",
   "execution_count": 18,
   "id": "68aa567b",
   "metadata": {},
   "outputs": [],
   "source": [
    "\n",
    "import ssl\n",
    "from email.message import EmailMessage\n",
    "import smtplib\n",
    "for i in data.mailid:\n",
    "    email_sender='qwertysdf1234g@gmail.com'\n",
    "    email_reciver=i\n",
    "    email_password='jqtfhxqbcdsaxjki'\n",
    "    subject=\"BAD ATTENDANCE REPORT\"\n",
    "    body=\"\"\"\n",
    "    Dear Student;\n",
    "       your attendance is below 75% ,please attend classes regularly.\n",
    "       meet your mentor as earliest\n",
    "\n",
    "    \"\"\"\n",
    "    em=EmailMessage()\n",
    "    em['From']=email_sender\n",
    "    em['To']=email_reciver\n",
    "    em['subject']=subject\n",
    "    em.set_content(body)\n",
    "#context = ssl.create_default_content()\n",
    "    with smtplib.SMTP_SSL('smtp.gmail.com',465) as smtp:\n",
    "        smtp.login(email_sender,email_password)\n",
    "        smtp.sendmail(email_sender,email_reciver,em.as_string())\n",
    "        \n",
    "\n"
   ]
  },
  {
   "cell_type": "code",
   "execution_count": null,
   "id": "4666dcce",
   "metadata": {},
   "outputs": [],
   "source": []
  }
 ],
 "metadata": {
  "kernelspec": {
   "display_name": "Python 3 (ipykernel)",
   "language": "python",
   "name": "python3"
  },
  "language_info": {
   "codemirror_mode": {
    "name": "ipython",
    "version": 3
   },
   "file_extension": ".py",
   "mimetype": "text/x-python",
   "name": "python",
   "nbconvert_exporter": "python",
   "pygments_lexer": "ipython3",
   "version": "3.10.9"
  }
 },
 "nbformat": 4,
 "nbformat_minor": 5
}
